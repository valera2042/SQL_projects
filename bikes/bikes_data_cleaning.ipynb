{
 "cells": [
  {
   "cell_type": "code",
   "execution_count": 1,
   "metadata": {},
   "outputs": [],
   "source": [
    "import pandas as pd"
   ]
  },
  {
   "cell_type": "code",
   "execution_count": 28,
   "metadata": {},
   "outputs": [],
   "source": [
    "df = pd.read_excel(r\"C:\\Users\\valer\\Desktop\\Projects\\sql\\from sql\\ride_6.xlsx\")"
   ]
  },
  {
   "cell_type": "code",
   "execution_count": 29,
   "metadata": {},
   "outputs": [
    {
     "data": {
      "text/html": [
       "<div>\n",
       "<style scoped>\n",
       "    .dataframe tbody tr th:only-of-type {\n",
       "        vertical-align: middle;\n",
       "    }\n",
       "\n",
       "    .dataframe tbody tr th {\n",
       "        vertical-align: top;\n",
       "    }\n",
       "\n",
       "    .dataframe thead th {\n",
       "        text-align: right;\n",
       "    }\n",
       "</style>\n",
       "<table border=\"1\" class=\"dataframe\">\n",
       "  <thead>\n",
       "    <tr style=\"text-align: right;\">\n",
       "      <th></th>\n",
       "      <th>ride_id</th>\n",
       "      <th>start_lat</th>\n",
       "      <th>end_lat</th>\n",
       "      <th>start_lng</th>\n",
       "      <th>end_lng</th>\n",
       "      <th>weekday_of_start</th>\n",
       "      <th>time_ready</th>\n",
       "      <th>total_count_per_day</th>\n",
       "      <th>member_casual</th>\n",
       "    </tr>\n",
       "  </thead>\n",
       "  <tbody>\n",
       "    <tr>\n",
       "      <th>0</th>\n",
       "      <td>021093B18970F6DB</td>\n",
       "      <td>41.903</td>\n",
       "      <td>41.9114</td>\n",
       "      <td>-87.6313</td>\n",
       "      <td>-87.6387</td>\n",
       "      <td>Wednesday</td>\n",
       "      <td>0.0</td>\n",
       "      <td>8718.0</td>\n",
       "      <td>casual</td>\n",
       "    </tr>\n",
       "    <tr>\n",
       "      <th>1</th>\n",
       "      <td>029838FC8AA7BC14</td>\n",
       "      <td>41.8915</td>\n",
       "      <td>41.886</td>\n",
       "      <td>-87.6268</td>\n",
       "      <td>-87.6241</td>\n",
       "      <td>Thursday</td>\n",
       "      <td>0.0</td>\n",
       "      <td>11703.0</td>\n",
       "      <td>member</td>\n",
       "    </tr>\n",
       "    <tr>\n",
       "      <th>2</th>\n",
       "      <td>03B02D1649677DB6</td>\n",
       "      <td>42.001</td>\n",
       "      <td>42.008</td>\n",
       "      <td>-87.6612</td>\n",
       "      <td>-87.6655</td>\n",
       "      <td>Friday</td>\n",
       "      <td>0.0</td>\n",
       "      <td>9972.0</td>\n",
       "      <td>casual</td>\n",
       "    </tr>\n",
       "    <tr>\n",
       "      <th>3</th>\n",
       "      <td>0178B67CC2523EF3</td>\n",
       "      <td>41.9291</td>\n",
       "      <td>41.9528</td>\n",
       "      <td>-87.6491</td>\n",
       "      <td>-87.6500</td>\n",
       "      <td>Saturday</td>\n",
       "      <td>0.0</td>\n",
       "      <td>12910.0</td>\n",
       "      <td>casual</td>\n",
       "    </tr>\n",
       "    <tr>\n",
       "      <th>4</th>\n",
       "      <td>004FB7283E0E55A0</td>\n",
       "      <td>41.8892</td>\n",
       "      <td>41.8776</td>\n",
       "      <td>-87.6278</td>\n",
       "      <td>-87.6496</td>\n",
       "      <td>Monday</td>\n",
       "      <td>0.0</td>\n",
       "      <td>10745.0</td>\n",
       "      <td>member</td>\n",
       "    </tr>\n",
       "  </tbody>\n",
       "</table>\n",
       "</div>"
      ],
      "text/plain": [
       "            ride_id start_lat  end_lat  start_lng  end_lng weekday_of_start  \\\n",
       "0  021093B18970F6DB    41.903  41.9114   -87.6313 -87.6387        Wednesday   \n",
       "1  029838FC8AA7BC14   41.8915   41.886   -87.6268 -87.6241         Thursday   \n",
       "2  03B02D1649677DB6    42.001   42.008   -87.6612 -87.6655           Friday   \n",
       "3  0178B67CC2523EF3   41.9291  41.9528   -87.6491 -87.6500         Saturday   \n",
       "4  004FB7283E0E55A0   41.8892  41.8776   -87.6278 -87.6496           Monday   \n",
       "\n",
       "   time_ready  total_count_per_day member_casual  \n",
       "0         0.0               8718.0        casual  \n",
       "1         0.0              11703.0        member  \n",
       "2         0.0               9972.0        casual  \n",
       "3         0.0              12910.0        casual  \n",
       "4         0.0              10745.0        member  "
      ]
     },
     "execution_count": 29,
     "metadata": {},
     "output_type": "execute_result"
    }
   ],
   "source": [
    "df.head()"
   ]
  },
  {
   "cell_type": "code",
   "execution_count": 30,
   "metadata": {},
   "outputs": [
    {
     "data": {
      "text/plain": [
       "Index(['ride_id', 'start_lat', 'end_lat', 'start_lng', 'end_lng',\n",
       "       'weekday_of_start', 'time_ready', 'total_count_per_day',\n",
       "       'member_casual'],\n",
       "      dtype='object')"
      ]
     },
     "execution_count": 30,
     "metadata": {},
     "output_type": "execute_result"
    }
   ],
   "source": [
    "df.columns"
   ]
  },
  {
   "cell_type": "code",
   "execution_count": 31,
   "metadata": {},
   "outputs": [],
   "source": [
    "df.dropna(inplace = True)"
   ]
  },
  {
   "cell_type": "code",
   "execution_count": null,
   "metadata": {},
   "outputs": [],
   "source": []
  },
  {
   "cell_type": "code",
   "execution_count": 32,
   "metadata": {},
   "outputs": [
    {
     "data": {
      "text/plain": [
       "ride_id                0\n",
       "start_lat              0\n",
       "end_lat                0\n",
       "start_lng              0\n",
       "end_lng                0\n",
       "weekday_of_start       0\n",
       "time_ready             0\n",
       "total_count_per_day    0\n",
       "member_casual          0\n",
       "dtype: int64"
      ]
     },
     "execution_count": 32,
     "metadata": {},
     "output_type": "execute_result"
    }
   ],
   "source": [
    "df.isna().sum()"
   ]
  },
  {
   "cell_type": "code",
   "execution_count": 33,
   "metadata": {},
   "outputs": [],
   "source": [
    "df.to_excel(r\"C:\\Users\\valer\\Desktop\\Projects\\sql\\from sql\\ride_6.xlsx\")"
   ]
  },
  {
   "cell_type": "code",
   "execution_count": 27,
   "metadata": {},
   "outputs": [
    {
     "data": {
      "text/html": [
       "<div>\n",
       "<style scoped>\n",
       "    .dataframe tbody tr th:only-of-type {\n",
       "        vertical-align: middle;\n",
       "    }\n",
       "\n",
       "    .dataframe tbody tr th {\n",
       "        vertical-align: top;\n",
       "    }\n",
       "\n",
       "    .dataframe thead th {\n",
       "        text-align: right;\n",
       "    }\n",
       "</style>\n",
       "<table border=\"1\" class=\"dataframe\">\n",
       "  <thead>\n",
       "    <tr style=\"text-align: right;\">\n",
       "      <th></th>\n",
       "      <th>ride_id</th>\n",
       "      <th>start_lat</th>\n",
       "      <th>end_lat</th>\n",
       "      <th>start_lng</th>\n",
       "      <th>end_lng</th>\n",
       "      <th>weekday_of_start</th>\n",
       "      <th>time_ready</th>\n",
       "      <th>total_count_per_day</th>\n",
       "    </tr>\n",
       "  </thead>\n",
       "  <tbody>\n",
       "    <tr>\n",
       "      <th>0</th>\n",
       "      <td>021093B18970F6DB</td>\n",
       "      <td>41.903</td>\n",
       "      <td>41.9114</td>\n",
       "      <td>-87.6313</td>\n",
       "      <td>-87.6387</td>\n",
       "      <td>Wednesday</td>\n",
       "      <td>0.0</td>\n",
       "      <td>8718.0</td>\n",
       "    </tr>\n",
       "    <tr>\n",
       "      <th>1</th>\n",
       "      <td>029838FC8AA7BC14</td>\n",
       "      <td>41.8915</td>\n",
       "      <td>41.886</td>\n",
       "      <td>-87.6268</td>\n",
       "      <td>-87.6241</td>\n",
       "      <td>Thursday</td>\n",
       "      <td>0.0</td>\n",
       "      <td>11703.0</td>\n",
       "    </tr>\n",
       "    <tr>\n",
       "      <th>2</th>\n",
       "      <td>03B02D1649677DB6</td>\n",
       "      <td>42.001</td>\n",
       "      <td>42.008</td>\n",
       "      <td>-87.6612</td>\n",
       "      <td>-87.6655</td>\n",
       "      <td>Friday</td>\n",
       "      <td>0.0</td>\n",
       "      <td>9972.0</td>\n",
       "    </tr>\n",
       "    <tr>\n",
       "      <th>3</th>\n",
       "      <td>0178B67CC2523EF3</td>\n",
       "      <td>41.9291</td>\n",
       "      <td>41.9528</td>\n",
       "      <td>-87.6491</td>\n",
       "      <td>-87.6500</td>\n",
       "      <td>Saturday</td>\n",
       "      <td>0.0</td>\n",
       "      <td>12910.0</td>\n",
       "    </tr>\n",
       "    <tr>\n",
       "      <th>4</th>\n",
       "      <td>004FB7283E0E55A0</td>\n",
       "      <td>41.8892</td>\n",
       "      <td>41.8776</td>\n",
       "      <td>-87.6278</td>\n",
       "      <td>-87.6496</td>\n",
       "      <td>Monday</td>\n",
       "      <td>0.0</td>\n",
       "      <td>10745.0</td>\n",
       "    </tr>\n",
       "  </tbody>\n",
       "</table>\n",
       "</div>"
      ],
      "text/plain": [
       "            ride_id start_lat  end_lat  start_lng  end_lng weekday_of_start  \\\n",
       "0  021093B18970F6DB    41.903  41.9114   -87.6313 -87.6387        Wednesday   \n",
       "1  029838FC8AA7BC14   41.8915   41.886   -87.6268 -87.6241         Thursday   \n",
       "2  03B02D1649677DB6    42.001   42.008   -87.6612 -87.6655           Friday   \n",
       "3  0178B67CC2523EF3   41.9291  41.9528   -87.6491 -87.6500         Saturday   \n",
       "4  004FB7283E0E55A0   41.8892  41.8776   -87.6278 -87.6496           Monday   \n",
       "\n",
       "   time_ready  total_count_per_day  \n",
       "0         0.0               8718.0  \n",
       "1         0.0              11703.0  \n",
       "2         0.0               9972.0  \n",
       "3         0.0              12910.0  \n",
       "4         0.0              10745.0  "
      ]
     },
     "execution_count": 27,
     "metadata": {},
     "output_type": "execute_result"
    }
   ],
   "source": [
    "df.head()"
   ]
  },
  {
   "cell_type": "code",
   "execution_count": null,
   "metadata": {},
   "outputs": [],
   "source": []
  }
 ],
 "metadata": {
  "kernelspec": {
   "display_name": "Python 3",
   "language": "python",
   "name": "python3"
  },
  "language_info": {
   "codemirror_mode": {
    "name": "ipython",
    "version": 3
   },
   "file_extension": ".py",
   "mimetype": "text/x-python",
   "name": "python",
   "nbconvert_exporter": "python",
   "pygments_lexer": "ipython3",
   "version": "3.8.3"
  }
 },
 "nbformat": 4,
 "nbformat_minor": 4
}
